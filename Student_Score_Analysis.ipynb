{
 "cells": [
  {
   "cell_type": "markdown",
   "id": "3d88f87e-9d39-4b0e-bf0e-6d8d4e2d2f1d",
   "metadata": {},
   "source": [
    "## Imprting Liberaries & Loading Dataset"
   ]
  },
  {
   "cell_type": "code",
   "execution_count": 6,
   "id": "b89118ab-3dda-41b5-a585-09354c88f836",
   "metadata": {},
   "outputs": [],
   "source": [
    "import pandas as pd\n",
    "import numpy as np"
   ]
  },
  {
   "cell_type": "code",
   "execution_count": 7,
   "id": "2557ced7-ebb0-4666-9bc7-06664204b367",
   "metadata": {},
   "outputs": [],
   "source": [
    "messy = r'C:\\Users\\DELL\\Desktop\\student_scores_messy.csv'\n",
    "df = pd.read_csv(messy)"
   ]
  },
  {
   "cell_type": "code",
   "execution_count": 8,
   "id": "dad16fd5-c917-4bd5-85c9-9b5c18e9bfbc",
   "metadata": {},
   "outputs": [
    {
     "data": {
      "text/html": [
       "<div>\n",
       "<style scoped>\n",
       "    .dataframe tbody tr th:only-of-type {\n",
       "        vertical-align: middle;\n",
       "    }\n",
       "\n",
       "    .dataframe tbody tr th {\n",
       "        vertical-align: top;\n",
       "    }\n",
       "\n",
       "    .dataframe thead th {\n",
       "        text-align: right;\n",
       "    }\n",
       "</style>\n",
       "<table border=\"1\" class=\"dataframe\">\n",
       "  <thead>\n",
       "    <tr style=\"text-align: right;\">\n",
       "      <th></th>\n",
       "      <th>Name</th>\n",
       "      <th>Age</th>\n",
       "      <th>Score</th>\n",
       "      <th>Gender</th>\n",
       "    </tr>\n",
       "  </thead>\n",
       "  <tbody>\n",
       "    <tr>\n",
       "      <th>0</th>\n",
       "      <td>Nikunj</td>\n",
       "      <td>25</td>\n",
       "      <td>85.0</td>\n",
       "      <td>F</td>\n",
       "    </tr>\n",
       "    <tr>\n",
       "      <th>1</th>\n",
       "      <td>Rohan</td>\n",
       "      <td>30</td>\n",
       "      <td>90.0</td>\n",
       "      <td>M</td>\n",
       "    </tr>\n",
       "    <tr>\n",
       "      <th>2</th>\n",
       "      <td>shinjo</td>\n",
       "      <td>NaN</td>\n",
       "      <td>95.0</td>\n",
       "      <td>M</td>\n",
       "    </tr>\n",
       "    <tr>\n",
       "      <th>3</th>\n",
       "      <td>Nami</td>\n",
       "      <td>30</td>\n",
       "      <td>90.0</td>\n",
       "      <td>m</td>\n",
       "    </tr>\n",
       "    <tr>\n",
       "      <th>4</th>\n",
       "      <td>Kinau</td>\n",
       "      <td>25</td>\n",
       "      <td>85.0</td>\n",
       "      <td>f</td>\n",
       "    </tr>\n",
       "  </tbody>\n",
       "</table>\n",
       "</div>"
      ],
      "text/plain": [
       "    Name   Age  Score Gender\n",
       "0  Nikunj   25   85.0      F\n",
       "1   Rohan   30   90.0      M\n",
       "2  shinjo  NaN   95.0      M\n",
       "3    Nami   30   90.0      m\n",
       "4   Kinau   25   85.0      f"
      ]
     },
     "execution_count": 8,
     "metadata": {},
     "output_type": "execute_result"
    }
   ],
   "source": [
    "df.head()"
   ]
  },
  {
   "cell_type": "markdown",
   "id": "c8c12c14-dab2-476b-b766-7cc3ec03e5d8",
   "metadata": {},
   "source": [
    "## Cleaning Columns Name For better Look "
   ]
  },
  {
   "cell_type": "code",
   "execution_count": 9,
   "id": "3477aad6-126f-4fe0-8ed6-63f326f1dd82",
   "metadata": {},
   "outputs": [],
   "source": [
    "df.columns = df.columns.str.strip().str.lower()"
   ]
  },
  {
   "cell_type": "code",
   "execution_count": 11,
   "id": "4bdebeb9-b40e-44f1-8df1-ae7780e3e840",
   "metadata": {},
   "outputs": [
    {
     "name": "stdout",
     "output_type": "stream",
     "text": [
      "Index(['name', 'age', 'score', 'gender'], dtype='object')\n"
     ]
    }
   ],
   "source": [
    "print(df.columns)"
   ]
  },
  {
   "cell_type": "markdown",
   "id": "59c21f92-50f0-4d0b-a45d-ce1d1b9ff22b",
   "metadata": {},
   "source": [
    "##  Handling  Whitespaces and Capitalization"
   ]
  },
  {
   "cell_type": "code",
   "execution_count": 12,
   "id": "2af55d87-c5ee-4656-916b-dc9c245af229",
   "metadata": {},
   "outputs": [],
   "source": [
    "df['name'] = df['name'].str.strip().str.title()\n",
    "df['gender'] = df['gender'].str.strip().str.capitalize()"
   ]
  },
  {
   "cell_type": "markdown",
   "id": "a848727e-5f20-4d90-8b0c-3b8ee1bfc904",
   "metadata": {},
   "source": [
    "## Fixing  Gender Values"
   ]
  },
  {
   "cell_type": "code",
   "execution_count": 13,
   "id": "7ddd0847-5288-4f5a-9e3e-933adb8b6fb9",
   "metadata": {},
   "outputs": [],
   "source": [
    "df['gender'] = df['gender'].replace({\n",
    "    'F': 'Female',\n",
    "    'M': 'Male',\n",
    "    'female': 'Female',\n",
    "    'male': 'Male'\n",
    "})"
   ]
  },
  {
   "cell_type": "markdown",
   "id": "7c32b9ce-f3c4-4855-bb42-8fe05a01a466",
   "metadata": {},
   "source": [
    "## Converting  Age and Score to Numeric values "
   ]
  },
  {
   "cell_type": "code",
   "execution_count": 14,
   "id": "f84d188d-3fe3-4447-ab6e-7e0e3132827d",
   "metadata": {},
   "outputs": [],
   "source": [
    "df['age'] = pd.to_numeric(df['age'], errors='coerce')\n",
    "df['score'] = pd.to_numeric(df['score'], errors='coerce')"
   ]
  },
  {
   "cell_type": "markdown",
   "id": "78f9d5e1-d40e-4853-abe9-86cc5defadf3",
   "metadata": {},
   "source": [
    "## Handling Missing Values"
   ]
  },
  {
   "cell_type": "code",
   "execution_count": 15,
   "id": "30e695ef-305b-483a-83bb-cbc43b8d3d42",
   "metadata": {},
   "outputs": [],
   "source": [
    "df.dropna(inplace = True)"
   ]
  },
  {
   "cell_type": "markdown",
   "id": "b865990a-4e41-4c76-84ff-2fa1f14506c6",
   "metadata": {},
   "source": [
    "## Calculating Grades"
   ]
  },
  {
   "cell_type": "code",
   "execution_count": 17,
   "id": "bcde0f4e-fdf2-44cd-87fd-f8fa618063ef",
   "metadata": {},
   "outputs": [],
   "source": [
    "def get_grade(score):\n",
    "    if score >= 85:\n",
    "        return 'A'\n",
    "    elif score >= 70:\n",
    "        return 'B'\n",
    "    elif score >= 50:\n",
    "        return 'C'\n",
    "    else:\n",
    "        return 'D'\n",
    "\n",
    "df['grade'] = df['score'].apply(get_grade)"
   ]
  },
  {
   "cell_type": "markdown",
   "id": "96946ca3-21b9-4626-b9d7-5edf3b1b3b98",
   "metadata": {},
   "source": [
    " ## Insights "
   ]
  },
  {
   "cell_type": "code",
   "execution_count": 18,
   "id": "f25c1f3c-1586-48d1-bbd2-f73a91625110",
   "metadata": {},
   "outputs": [],
   "source": [
    "# Top  to bottom \n",
    "top_scorers = df.sort_values(by='score', ascending=False).head(5)\n",
    "\n",
    "# Average of student\n",
    "gender_avg = df.groupby('gender')['score'].mean()"
   ]
  },
  {
   "cell_type": "markdown",
   "id": "4ce29087-a427-44e4-8214-4b5ff922d0ea",
   "metadata": {},
   "source": [
    "## Export Cleaned Data"
   ]
  },
  {
   "cell_type": "code",
   "execution_count": 19,
   "id": "b60a31b9-f42c-4163-9a55-eabb734df0da",
   "metadata": {},
   "outputs": [],
   "source": [
    "df.to_csv(\"cleaned_data.csv\", index=False)"
   ]
  }
 ],
 "metadata": {
  "kernelspec": {
   "display_name": "Python 3 (ipykernel)",
   "language": "python",
   "name": "python3"
  },
  "language_info": {
   "codemirror_mode": {
    "name": "ipython",
    "version": 3
   },
   "file_extension": ".py",
   "mimetype": "text/x-python",
   "name": "python",
   "nbconvert_exporter": "python",
   "pygments_lexer": "ipython3",
   "version": "3.13.0"
  }
 },
 "nbformat": 4,
 "nbformat_minor": 5
}
